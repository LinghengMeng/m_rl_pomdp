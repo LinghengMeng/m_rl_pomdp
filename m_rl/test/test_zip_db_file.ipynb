{
 "cells": [
  {
   "cell_type": "code",
   "execution_count": 1,
   "metadata": {
    "collapsed": true,
    "ExecuteTime": {
     "end_time": "2023-07-26T23:53:50.243493100Z",
     "start_time": "2023-07-26T23:53:50.169494400Z"
    }
   },
   "outputs": [],
   "source": [
    "import os\n",
    "import zipfile"
   ]
  },
  {
   "cell_type": "code",
   "execution_count": 2,
   "outputs": [],
   "source": [
    "db_file_unzipped = r\"C:\\Users\\lingh\\Documents\\sync_data\\m_rl_data\\2023-07-26_td3\\2023-07-26_18-23-13-td3_s0\\pyt_save\\Step-485999_Checkpoint_DB_verified.sqlite3\""
   ],
   "metadata": {
    "collapsed": false,
    "ExecuteTime": {
     "end_time": "2023-07-26T23:57:26.689148900Z",
     "start_time": "2023-07-26T23:57:26.634639800Z"
    }
   }
  },
  {
   "cell_type": "code",
   "execution_count": 4,
   "outputs": [],
   "source": [
    "with zipfile.ZipFile(os.path.join(r\"C:\\Users\\lingh\\Documents\\sync_data\\m_rl_data\\2023-07-26_td3\\2023-07-26_18-23-13-td3_s0\\pyt_save\", 'test.zip'), 'w') as db_zip:\n",
    "    db_zip.write(db_file_unzipped)"
   ],
   "metadata": {
    "collapsed": false,
    "ExecuteTime": {
     "end_time": "2023-07-27T01:52:06.175708400Z",
     "start_time": "2023-07-27T01:52:04.743875400Z"
    }
   }
  },
  {
   "cell_type": "code",
   "execution_count": null,
   "outputs": [],
   "source": [],
   "metadata": {
    "collapsed": false
   }
  }
 ],
 "metadata": {
  "kernelspec": {
   "display_name": "Python 3",
   "language": "python",
   "name": "python3"
  },
  "language_info": {
   "codemirror_mode": {
    "name": "ipython",
    "version": 2
   },
   "file_extension": ".py",
   "mimetype": "text/x-python",
   "name": "python",
   "nbconvert_exporter": "python",
   "pygments_lexer": "ipython2",
   "version": "2.7.6"
  }
 },
 "nbformat": 4,
 "nbformat_minor": 0
}
